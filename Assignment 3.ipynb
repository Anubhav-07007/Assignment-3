{
 "cells": [
  {
   "cell_type": "code",
   "execution_count": 16,
   "id": "4fa12171",
   "metadata": {},
   "outputs": [
    {
     "name": "stdout",
     "output_type": "stream",
     "text": [
      "30\n"
     ]
    },
    {
     "data": {
      "text/plain": [
       "50"
      ]
     },
     "execution_count": 16,
     "metadata": {},
     "output_type": "execute_result"
    }
   ],
   "source": [
    "# Q1 Why are functions advantageous to have in your programs?\n",
    "\n",
    "# By the helps of functions we can perform our task again and again. Also we can use a one function multiple time in single notebook.\n",
    "\n",
    "a=10\n",
    "b=20\n",
    "\n",
    "print(a+b)\n",
    "\n",
    "#if we want to change the value of a & b and sum it again. We have define the value of a & b again.\n",
    "\n",
    "def sum(a,b):\n",
    "    return a+b\n",
    "\n",
    "#'here we change the value of a & b dynamically and we got our answer'\n",
    "\n",
    "sum(30,20)"
   ]
  },
  {
   "cell_type": "code",
   "execution_count": 18,
   "id": "66cc2d19",
   "metadata": {},
   "outputs": [],
   "source": [
    "#Q2When does the code in a function run: when it's specified or when it's called?\n",
    "\n",
    "# When its called . "
   ]
  },
  {
   "cell_type": "code",
   "execution_count": 21,
   "id": "a9f8ab47",
   "metadata": {},
   "outputs": [
    {
     "data": {
      "text/plain": [
       "20"
      ]
     },
     "execution_count": 21,
     "metadata": {},
     "output_type": "execute_result"
    }
   ],
   "source": [
    "# Q3 What statement creates a function?\n",
    "\n",
    "# def (function name ) :\n",
    "#   return operation \n",
    "\n",
    "def multiply(a,b):\n",
    "    return a*b\n",
    "\n",
    "multiply(10,2)"
   ]
  },
  {
   "cell_type": "code",
   "execution_count": 22,
   "id": "cd390fa0",
   "metadata": {},
   "outputs": [],
   "source": [
    "# Q4 What is the difference between a function and a function call?\n",
    "\n",
    "#A function is a block of code that does a particular operation and returns a result.\n",
    "#It usually accepts inputs as parameters and returns a result. The parameters are not mandatory."
   ]
  },
  {
   "cell_type": "code",
   "execution_count": 3,
   "id": "bdeef6c5",
   "metadata": {},
   "outputs": [
    {
     "data": {
      "text/plain": [
       "9"
      ]
     },
     "execution_count": 3,
     "metadata": {},
     "output_type": "execute_result"
    }
   ],
   "source": [
    "# Q5 What is the difference between a function and a function call?\n",
    "\n",
    "# We can create function for re-using again and again. \n",
    "# Without calling a function we can't use it. example below:\n",
    "\n",
    "def sum(a,b):\n",
    "    return a+b\n",
    "\n",
    "sum(2,4)\n",
    "\n",
    "# output 6\n",
    "\n",
    "sum(4,5)"
   ]
  },
  {
   "cell_type": "code",
   "execution_count": 3,
   "id": "b17b2ccc",
   "metadata": {},
   "outputs": [
    {
     "data": {
      "text/plain": [
       "(30, -10)"
      ]
     },
     "execution_count": 3,
     "metadata": {},
     "output_type": "execute_result"
    }
   ],
   "source": [
    "#  Q5 How many global scopes are there in a Python program? How many local scopes?\n",
    "\n",
    "# As many as we can create global scopes in python. we can create many local scopes as well.\n",
    "\n",
    "\n",
    "a=10  # global scope\n",
    "b=20\n",
    "\n",
    "def sum(x,y):\n",
    "    a=x+y        # local scope\n",
    "    b=x-y\n",
    "    \n",
    "    return a,b\n",
    "    \n",
    "\n",
    "sum(a,b)\n",
    "\n",
    "# Q6 What happens to variables in a local scope when the function call returns?\n",
    "\n",
    "# When the function call local vaiable return the value as per operation."
   ]
  },
  {
   "cell_type": "code",
   "execution_count": 25,
   "id": "a6f02444",
   "metadata": {},
   "outputs": [],
   "source": [
    "# Q7 What is the concept of a return value? Is it possible to have a return value in an expression?\n",
    "\n",
    "# We use return instead of print statement, because return returns the same type of variable.\n",
    "\n",
    "# print return the none type of varialbe.\n",
    "\n",
    "# yes we can return value in an expression as well. \n",
    "\n",
    "def sum(a,b):\n",
    "    return a+b\n"
   ]
  },
  {
   "cell_type": "code",
   "execution_count": 29,
   "id": "d7212575",
   "metadata": {},
   "outputs": [
    {
     "data": {
      "text/plain": [
       "3"
      ]
     },
     "execution_count": 29,
     "metadata": {},
     "output_type": "execute_result"
    }
   ],
   "source": [
    "sum(1,2)"
   ]
  },
  {
   "cell_type": "code",
   "execution_count": 34,
   "id": "aa483c8a",
   "metadata": {},
   "outputs": [],
   "source": [
    "# Q8 If a function does not have a return statement, what is the return value of a call to that function?\n",
    "\n",
    "# if do not write return statement, we are not getting output.\n",
    "\n",
    "def square(n):\n",
    "    l=[]\n",
    "    for i in range(n):\n",
    "        l.append(i)\n",
    "    \n",
    "square(10)"
   ]
  },
  {
   "cell_type": "code",
   "execution_count": 40,
   "id": "026ddf91",
   "metadata": {},
   "outputs": [
    {
     "name": "stdout",
     "output_type": "stream",
     "text": [
      "Python is fantastic\n",
      "Python is awesome\n"
     ]
    }
   ],
   "source": [
    "# Q9 How do you make a function variable refer to the global variable?\n",
    "\n",
    "x = \"awesome\"\n",
    "\n",
    "def myfunc():\n",
    "    return (\"Python is \" + x)\n",
    "\n",
    "myfunc()\n",
    "\n",
    "\n",
    "x = \"awesome\"\n",
    "\n",
    "def myfunc1():\n",
    "    x = \"fantastic\"\n",
    "    print(\"Python is \" + x)\n",
    "\n",
    "myfunc1()\n",
    "\n",
    "print(\"Python is \" + x)"
   ]
  },
  {
   "cell_type": "code",
   "execution_count": 52,
   "id": "fdc511b4",
   "metadata": {},
   "outputs": [
    {
     "name": "stdout",
     "output_type": "stream",
     "text": [
      "Python is fantastic\n"
     ]
    },
    {
     "data": {
      "text/plain": [
       "NoneType"
      ]
     },
     "execution_count": 52,
     "metadata": {},
     "output_type": "execute_result"
    }
   ],
   "source": [
    "# q10 What is the data type of None?\n",
    "\n",
    "def myfunc():\n",
    "    print(\"Python is \" + x)\n",
    "\n",
    "a=myfunc()\n",
    "\n",
    "type(a)\n"
   ]
  },
  {
   "cell_type": "code",
   "execution_count": null,
   "id": "85f7bb39",
   "metadata": {},
   "outputs": [],
   "source": []
  }
 ],
 "metadata": {
  "kernelspec": {
   "display_name": "Python 3 (ipykernel)",
   "language": "python",
   "name": "python3"
  },
  "language_info": {
   "codemirror_mode": {
    "name": "ipython",
    "version": 3
   },
   "file_extension": ".py",
   "mimetype": "text/x-python",
   "name": "python",
   "nbconvert_exporter": "python",
   "pygments_lexer": "ipython3",
   "version": "3.9.7"
  }
 },
 "nbformat": 4,
 "nbformat_minor": 5
}
